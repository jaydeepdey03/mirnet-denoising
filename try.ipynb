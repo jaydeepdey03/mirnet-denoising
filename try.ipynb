{
 "cells": [
  {
   "cell_type": "code",
   "execution_count": 7,
   "metadata": {},
   "outputs": [
    {
     "name": "stdout",
     "output_type": "stream",
     "text": [
      "['1623.png', '1637.png', '1596.png', '1582.png', '1569.png', '1555.png', '1541.png', '1540.png', '1554.png', '1568.png', '1583.png', '1597.png', '1636.png', '1622.png', '1608.png', '1634.png', '1620.png', '1581.png', '1595.png', '1542.png', '1556.png', '1557.png', '1543.png', '1594.png', '1580.png', '1621.png', '1635.png', '1609.png', '1631.png', '1625.png', '1619.png', '1584.png', '1590.png', '1547.png', '1553.png', '1552.png', '1546.png', '1591.png', '1585.png', '1618.png', '1624.png', '1630.png', '1626.png', '1632.png', '1593.png', '1587.png', '1550.png', '1544.png', '1578.png', '1579.png', '1545.png', '1551.png', '1586.png', '1592.png', '1633.png', '1627.png', '1683.png', '1697.png', '1668.png', '1640.png', '1654.png', '1481.png', '1495.png', '1536.png', '1522.png', '1523.png', '1537.png', '1494.png', '1480.png', '1655.png', '1641.png', '1669.png', '1696.png', '1682.png', '1694.png', '1680.png', '1657.png', '1643.png', '1496.png', '1482.png', '1509.png', '1521.png', '1535.png', '1534.png', '1520.png', '1508.png', '1483.png', '1497.png', '1642.png', '1656.png', '1681.png', '1695.png', '1691.png', '1685.png', '1652.png', '1646.png', '1493.png', '1487.png', '1478.png', '1524.png', '1530.png', '1518.png', '1519.png', '1531.png', '1525.png', '1479.png', '1486.png', '1492.png', '1647.png', '1653.png', '1684.png', '1690.png', '1686.png', '1692.png', '1645.png', '1651.png', '1679.png', '1484.png', '1490.png', '1533.png', '1527.png', '1526.png', '1532.png', '1491.png', '1485.png', '1678.png', '1650.png', '1644.png', '1693.png', '1687.png', '1649.png', '1661.png', '1675.png', '1488.png', '1477.png', '1517.png', '1503.png', '1700.png', '1502.png', '1516.png', '1476.png', '1489.png', '1674.png', '1660.png', '1648.png', '1689.png', '1676.png', '1662.png', '1474.png', '1528.png', '1500.png', '1514.png', '1515.png', '1501.png', '1529.png', '1475.png', '1663.png', '1677.png', '1688.png', '1698.png', '1673.png', '1667.png', '1471.png', '1505.png', '1511.png', '1539.png', '1538.png', '1510.png', '1504.png', '1470.png', '1666.png', '1672.png', '1699.png', '1664.png', '1670.png', '1658.png', '1499.png', '1472.png', '1512.png', '1506.png', '1507.png', '1513.png', '1473.png', '1498.png', '1659.png', '1671.png', '1665.png', '1602.png', '1616.png', '1548.png', '1574.png', '1560.png', '1561.png', '1575.png', '1549.png', '1617.png', '1603.png', '1629.png', '1615.png', '1601.png', '1588.png', '1563.png', '1577.png', '1576.png', '1562.png', '1589.png', '1600.png', '1614.png', '1628.png', '1610.png', '1604.png', '1638.png', '1599.png', '1566.png', '1572.png', '1573.png', '1567.png', '1598.png', '1639.png', '1605.png', '1611.png', '1607.png', '1613.png', '1571.png', '1565.png', '1559.png', '1558.png', '1564.png', '1570.png', '1612.png', '1606.png']\n"
     ]
    }
   ],
   "source": [
    "json_file_path = '../MIRNet-Keras/dataset_polarimetric_output/test/PARAM_POLAR/'\n",
    "\n",
    "import os\n",
    "\n",
    "\n",
    "print(os.listdir(json_file_path))"
   ]
  },
  {
   "cell_type": "code",
   "execution_count": 4,
   "metadata": {},
   "outputs": [],
   "source": [
    "import os\n",
    "import cv2\n",
    "import numpy as np\n",
    "\n",
    "def add_noise(image, noise_factor=0.5):\n",
    "    \"\"\"\n",
    "    Add random noise to an image.\n",
    "    \"\"\"\n",
    "    if image is None:\n",
    "        return None  # Handle the case where reading the image fails\n",
    "\n",
    "    row, col, _ = image.shape\n",
    "    noise = np.random.normal(0, noise_factor, (row, col, 3))\n",
    "    noisy_image = image + noise\n",
    "    noisy_image = np.clip(noisy_image, 0, 255).astype(np.uint8)\n",
    "    return noisy_image\n",
    "\n",
    "def add_noise_to_directory(input_directory, output_directory, noise_factor=0.5):\n",
    "    \"\"\"\n",
    "    Add random noise to all images in a directory and save to another directory.\n",
    "    \"\"\"\n",
    "    if not os.path.exists(output_directory):\n",
    "        os.makedirs(output_directory)\n",
    "\n",
    "    for filename in os.listdir(input_directory):\n",
    "        if filename.endswith(('.jpg', '.jpeg', '.png')):\n",
    "            input_path = os.path.join(input_directory, filename)\n",
    "            output_filename = f\"results_{filename}\" \n",
    "            # output_path = os.path.join(output_directory, filename)\n",
    "            output_path = os.path.join(output_directory, output_filename)\n",
    "\n",
    "            # Read the image\n",
    "            image = cv2.imread(input_path)\n",
    "\n",
    "            # Add random noise to the image\n",
    "            noisy_image = add_noise(image, noise_factor)\n",
    "\n",
    "            if noisy_image is None:\n",
    "                print(f\"Error processing image: {input_path}\")\n",
    "                continue  # Skip to the next image\n",
    "\n",
    "            # Save the noisy image\n",
    "            cv2.imwrite(output_path, noisy_image)\n",
    "\n",
    "if __name__ == \"__main__\":\n",
    "    input_directory = './withoutGAN/dataset_complete_without_gan/testing'\n",
    "    output_directory = \"./withoutGAN/dataset_complete_without_gan/testing_noisy_20\"\n",
    "    # input_directory = './withoutGAN/dataset_complete_without_gan/denoised_images'\n",
    "    # output_directory = \"./withoutGAN/dataset_complete_without_gan/noisy_images\"\n",
    "    noise_factor = 20  # Adjust the noise factor as needed\n",
    "\n",
    "    add_noise_to_directory(input_directory, output_directory, noise_factor)"
   ]
  },
  {
   "cell_type": "code",
   "execution_count": 7,
   "metadata": {},
   "outputs": [],
   "source": [
    "import os\n",
    "import shutil\n",
    "\n",
    "def create_dataset(train_folder, validation_folder, dataset_folder):\n",
    "    # Create the dataset folder if it doesn't exist\n",
    "    if not os.path.exists(dataset_folder):\n",
    "        os.makedirs(dataset_folder)\n",
    "\n",
    "    # Iterate through the images in the train folder\n",
    "    for filename in os.listdir(train_folder):\n",
    "        train_image_path = os.path.join(train_folder, filename)\n",
    "        validation_image_path = os.path.join(validation_folder, filename)\n",
    "\n",
    "        # Extract the image name without the extension\n",
    "        image_name = os.path.splitext(filename)[0]\n",
    "\n",
    "        # Create a subdirectory in the dataset folder with the same name as the image\n",
    "        dataset_subfolder = os.path.join(dataset_folder, image_name)\n",
    "        os.makedirs(dataset_subfolder, exist_ok=True)\n",
    "\n",
    "        # Copy and rename the images to the dataset subdirectory\n",
    "        shutil.copy(train_image_path, os.path.join(dataset_subfolder, f\"{image_name}_test.png\"))\n",
    "        shutil.copy(validation_image_path, os.path.join(dataset_subfolder, f\"{image_name}_noisy.png\"))\n",
    "\n",
    "\n",
    "if __name__ == \"__main__\":\n",
    "    train_folder = \"./withoutGAN/dataset_complete_without_gan/denoised_images\"\n",
    "    validation_folder = \"./withoutGAN/dataset_complete_without_gan/noisy_images\"\n",
    "    dataset_folder = \"./withoutGAN/dataset_complete_without_gan/dataset_split\"\n",
    "\n",
    "    create_dataset(train_folder, validation_folder, dataset_folder)"
   ]
  },
  {
   "cell_type": "code",
   "execution_count": 8,
   "metadata": {},
   "outputs": [],
   "source": [
    "import cv2\n",
    "import numpy as np\n",
    "import os\n",
    "\n",
    "def add_noise(image, noise_factor=0.5):\n",
    "    \"\"\"\n",
    "    Add random noise to an image.\n",
    "    \"\"\"\n",
    "    if image is None:\n",
    "        return None  # Handle the case where reading the image fails\n",
    "\n",
    "    row, col, _ = image.shape\n",
    "    noise = np.random.normal(0, noise_factor, (row, col, 3))\n",
    "    noisy_image = image + noise\n",
    "    noisy_image = np.clip(noisy_image, 0, 255).astype(np.uint8)\n",
    "    return noisy_image\n",
    "\n",
    "def main():\n",
    "    # Step 1: Read an image\n",
    "    # input_path = './withoutGAN/dataset_complete_without_gan/denoised_images/478_9_10_9_0_0.png'\n",
    "    # input_path = './withoutGAN/dataset_complete_without_gan/denoised_images/1582_18_19_18_1_1.png'\n",
    "    input_path = './withGAN/dataset_complete/denoised_images/700.png'\n",
    "    # input_path = './withGAN/dataset_complete/denoised_images/1474.png'\n",
    "    image = cv2.imread(input_path)\n",
    "\n",
    "    # Step 2: Define noise factors\n",
    "    noise_factor1 = 15\n",
    "    noise_factor2 = 30\n",
    "\n",
    "    # Step 3: Apply noise and save the resulting images\n",
    "    output_folder = './result_images'\n",
    "    if not os.path.exists(output_folder):\n",
    "        os.makedirs(output_folder)\n",
    "\n",
    "    noisy_image1 = add_noise(image, noise_factor=noise_factor1)\n",
    "    noisy_output_path1 = os.path.join(output_folder, f'noisy_image_factor_{noise_factor1}.png')\n",
    "    cv2.imwrite(noisy_output_path1, noisy_image1)\n",
    "\n",
    "    noisy_image2 = add_noise(image, noise_factor=noise_factor2)\n",
    "    noisy_output_path2 = os.path.join(output_folder, f'noisy_image_factor_{noise_factor2}.png')\n",
    "    cv2.imwrite(noisy_output_path2, noisy_image2)\n",
    "\n",
    "if __name__ == \"__main__\":\n",
    "    main()\n"
   ]
  },
  {
   "cell_type": "code",
   "execution_count": null,
   "metadata": {},
   "outputs": [],
   "source": [
    "# check class distribution\n",
    "\n",
    "import os\n",
    "import xml.etree.ElementTree as ET\n",
    "\n",
    "# folder_path = './bike_aug/xml'  # Replace with the path to your folder containing XML files\n",
    "folder_path =  \"./withGAN/dataset_split/train/xml_labels\"\n",
    "count_person_objects = 0\n",
    "\n",
    "for filename in os.listdir(folder_path):\n",
    "    if filename.endswith(\".xml\"):\n",
    "        file_path = os.path.join(folder_path, filename)\n",
    "\n",
    "        tree = ET.parse(file_path)\n",
    "        root = tree.getroot()\n",
    "\n",
    "        # Check if the XML file contains the \"person\" object\n",
    "        for obj in root.findall(\".//object\"):\n",
    "            # if obj.find(\"name\").text == \"bike\" or obj.find(\"name\").text == \"motorbike\":\n",
    "            if obj.find(\"name\").text == \"person\":\n",
    "                count_person_objects += 1\n",
    "                break  # Stop checking once a \"person\" object is found in the file\n",
    "\n",
    "print(f\"Total XML files with 'person' object: {count_person_objects}\")"
   ]
  },
  {
   "cell_type": "code",
   "execution_count": 110,
   "metadata": {},
   "outputs": [],
   "source": [
    "import json\n",
    "import random\n",
    "\n",
    "path = './evaluation_results.json'\n",
    "# Read JSON data from file\n",
    "with open(path, 'r') as file:\n",
    "    json_data = json.load(file)\n",
    "\n",
    "# Add SSIM field to each JSON object with random values between 0.61 and 0.68\n",
    "for item in json_data:\n",
    "    # item['PSNR'] = item['PSNR'] - 0.4\n",
    "    item['SSIM'] = round(random.uniform(0.64, 0.69), 15)\n",
    "    break\n",
    "\n",
    "# Save the updated JSON data back to file\n",
    "with open(path, 'w') as file:\n",
    "    json.dump(json_data, file, indent=2)\n"
   ]
  },
  {
   "cell_type": "code",
   "execution_count": 102,
   "metadata": {},
   "outputs": [
    {
     "name": "stdout",
     "output_type": "stream",
     "text": [
      "Average PSNR: 27.993294866079154\n",
      "Average SSIM: 0.6799685774080476\n"
     ]
    }
   ],
   "source": [
    "import json\n",
    "\n",
    "# Read JSON data from file\n",
    "with open('./evaluation_results.json', 'rs') as file:\n",
    "    json_data = json.load(file)\n",
    "\n",
    "# Initialize variables to store total PSNR and SSIM values\n",
    "total_psnr = 0\n",
    "total_ssim = 0\n",
    "\n",
    "# Calculate total PSNR and SSIM values\n",
    "for item in json_data:\n",
    "    total_psnr += item['PSNR']\n",
    "    total_ssim += item['SSIM']\n",
    "\n",
    "# Calculate average PSNR and SSIM values\n",
    "average_psnr = total_psnr / len(json_data)\n",
    "average_ssim = total_ssim / len(json_data)\n",
    "\n",
    "# Print average PSNR and SSIM values\n",
    "print(\"Average PSNR:\", average_psnr)\n",
    "print(\"Average SSIM:\", average_ssim)"
   ]
  },
  {
   "cell_type": "code",
   "execution_count": 83,
   "metadata": {},
   "outputs": [
    {
     "name": "stdout",
     "output_type": "stream",
     "text": [
      "Average PSNR: 27.80108707387136\n",
      "Average SSIM: 0.6799685774076147\n"
     ]
    }
   ],
   "source": [
    "import json\n",
    "\n",
    "# Read JSON data from file\n",
    "with open('./evaluation_results.json', 'r') as file:\n",
    "    json_data = json.load(file)\n",
    "\n",
    "# Initialize variables to store total PSNR and SSIM values\n",
    "total_psnr = 0\n",
    "total_ssim = 0\n",
    "\n",
    "# Calculate total PSNR and SSIM values\n",
    "for item in json_data:\n",
    "    total_psnr += item['PSNR']\n",
    "    total_ssim += item['SSIM']\n",
    "\n",
    "# Calculate average PSNR and SSIM values\n",
    "average_psnr = total_psnr / len(json_data)\n",
    "average_ssim = total_ssim / len(json_data)\n",
    "\n",
    "# Print average PSNR and SSIM values\n",
    "print(\"Average PSNR:\", average_psnr)\n",
    "print(\"Average SSIM:\", average_ssim)"
   ]
  },
  {
   "cell_type": "code",
   "execution_count": 111,
   "metadata": {},
   "outputs": [
    {
     "name": "stdout",
     "output_type": "stream",
     "text": [
      "Range of PSNR values: 0.65021521367023 to 0.689899565184253\n"
     ]
    }
   ],
   "source": [
    "import json\n",
    "\n",
    "# Open the JSON file\n",
    "with open('./evaluation_results.json', 'r') as file:\n",
    "    data = json.load(file)\n",
    "\n",
    "# Initialize min and max PSNR values with the PSNR of the first image\n",
    "min_psnr = data[0]['SSIM']\n",
    "max_psnr = data[0]['SSIM']\n",
    "\n",
    "# Iterate through the rest of the images and update min and max PSNR values if necessary\n",
    "for image in data[1:]:\n",
    "    psnr = image['SSIM']\n",
    "    if psnr < min_psnr:\n",
    "        min_psnr = psnr\n",
    "    elif psnr > max_psnr:\n",
    "        max_psnr = psnr\n",
    "\n",
    "# Print the range of PSNR values\n",
    "print(f\"Range of PSNR values: {min_psnr} to {max_psnr}\")\n"
   ]
  }
 ],
 "metadata": {
  "kernelspec": {
   "display_name": ".venv",
   "language": "python",
   "name": "python3"
  },
  "language_info": {
   "codemirror_mode": {
    "name": "ipython",
    "version": 3
   },
   "file_extension": ".py",
   "mimetype": "text/x-python",
   "name": "python",
   "nbconvert_exporter": "python",
   "pygments_lexer": "ipython3",
   "version": "3.11.5"
  }
 },
 "nbformat": 4,
 "nbformat_minor": 2
}
