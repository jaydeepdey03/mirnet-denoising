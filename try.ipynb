{
 "cells": [
  {
   "cell_type": "code",
   "execution_count": 7,
   "metadata": {},
   "outputs": [
    {
     "name": "stdout",
     "output_type": "stream",
     "text": [
      "['1623.png', '1637.png', '1596.png', '1582.png', '1569.png', '1555.png', '1541.png', '1540.png', '1554.png', '1568.png', '1583.png', '1597.png', '1636.png', '1622.png', '1608.png', '1634.png', '1620.png', '1581.png', '1595.png', '1542.png', '1556.png', '1557.png', '1543.png', '1594.png', '1580.png', '1621.png', '1635.png', '1609.png', '1631.png', '1625.png', '1619.png', '1584.png', '1590.png', '1547.png', '1553.png', '1552.png', '1546.png', '1591.png', '1585.png', '1618.png', '1624.png', '1630.png', '1626.png', '1632.png', '1593.png', '1587.png', '1550.png', '1544.png', '1578.png', '1579.png', '1545.png', '1551.png', '1586.png', '1592.png', '1633.png', '1627.png', '1683.png', '1697.png', '1668.png', '1640.png', '1654.png', '1481.png', '1495.png', '1536.png', '1522.png', '1523.png', '1537.png', '1494.png', '1480.png', '1655.png', '1641.png', '1669.png', '1696.png', '1682.png', '1694.png', '1680.png', '1657.png', '1643.png', '1496.png', '1482.png', '1509.png', '1521.png', '1535.png', '1534.png', '1520.png', '1508.png', '1483.png', '1497.png', '1642.png', '1656.png', '1681.png', '1695.png', '1691.png', '1685.png', '1652.png', '1646.png', '1493.png', '1487.png', '1478.png', '1524.png', '1530.png', '1518.png', '1519.png', '1531.png', '1525.png', '1479.png', '1486.png', '1492.png', '1647.png', '1653.png', '1684.png', '1690.png', '1686.png', '1692.png', '1645.png', '1651.png', '1679.png', '1484.png', '1490.png', '1533.png', '1527.png', '1526.png', '1532.png', '1491.png', '1485.png', '1678.png', '1650.png', '1644.png', '1693.png', '1687.png', '1649.png', '1661.png', '1675.png', '1488.png', '1477.png', '1517.png', '1503.png', '1700.png', '1502.png', '1516.png', '1476.png', '1489.png', '1674.png', '1660.png', '1648.png', '1689.png', '1676.png', '1662.png', '1474.png', '1528.png', '1500.png', '1514.png', '1515.png', '1501.png', '1529.png', '1475.png', '1663.png', '1677.png', '1688.png', '1698.png', '1673.png', '1667.png', '1471.png', '1505.png', '1511.png', '1539.png', '1538.png', '1510.png', '1504.png', '1470.png', '1666.png', '1672.png', '1699.png', '1664.png', '1670.png', '1658.png', '1499.png', '1472.png', '1512.png', '1506.png', '1507.png', '1513.png', '1473.png', '1498.png', '1659.png', '1671.png', '1665.png', '1602.png', '1616.png', '1548.png', '1574.png', '1560.png', '1561.png', '1575.png', '1549.png', '1617.png', '1603.png', '1629.png', '1615.png', '1601.png', '1588.png', '1563.png', '1577.png', '1576.png', '1562.png', '1589.png', '1600.png', '1614.png', '1628.png', '1610.png', '1604.png', '1638.png', '1599.png', '1566.png', '1572.png', '1573.png', '1567.png', '1598.png', '1639.png', '1605.png', '1611.png', '1607.png', '1613.png', '1571.png', '1565.png', '1559.png', '1558.png', '1564.png', '1570.png', '1612.png', '1606.png']\n"
     ]
    }
   ],
   "source": [
    "json_file_path = '../MIRNet-Keras/dataset_polarimetric_output/test/PARAM_POLAR/'\n",
    "\n",
    "import os\n",
    "\n",
    "\n",
    "print(os.listdir(json_file_path))"
   ]
  }
 ],
 "metadata": {
  "kernelspec": {
   "display_name": ".venv",
   "language": "python",
   "name": "python3"
  },
  "language_info": {
   "codemirror_mode": {
    "name": "ipython",
    "version": 3
   },
   "file_extension": ".py",
   "mimetype": "text/x-python",
   "name": "python",
   "nbconvert_exporter": "python",
   "pygments_lexer": "ipython3",
   "version": "3.11.5"
  }
 },
 "nbformat": 4,
 "nbformat_minor": 2
}
